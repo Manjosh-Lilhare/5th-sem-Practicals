{
  "nbformat": 4,
  "nbformat_minor": 0,
  "metadata": {
    "colab": {
      "provenance": []
    },
    "kernelspec": {
      "name": "python3",
      "display_name": "Python 3"
    },
    "language_info": {
      "name": "python"
    }
  },
  "cells": [
    {
      "cell_type": "code",
      "execution_count": null,
      "metadata": {
        "colab": {
          "base_uri": "https://localhost:8080/"
        },
        "id": "8v-kHapIgE-F",
        "outputId": "675970ab-3363-455f-e9d2-f023789b9135"
      },
      "outputs": [
        {
          "output_type": "stream",
          "name": "stdout",
          "text": [
            "Collecting meteostat\n",
            "  Downloading meteostat-1.7.4-py3-none-any.whl.metadata (4.6 kB)\n",
            "Requirement already satisfied: pandas>=2 in /usr/local/lib/python3.11/dist-packages (from meteostat) (2.2.2)\n",
            "Requirement already satisfied: pytz in /usr/local/lib/python3.11/dist-packages (from meteostat) (2025.2)\n",
            "Requirement already satisfied: numpy in /usr/local/lib/python3.11/dist-packages (from meteostat) (2.0.2)\n",
            "Requirement already satisfied: python-dateutil>=2.8.2 in /usr/local/lib/python3.11/dist-packages (from pandas>=2->meteostat) (2.9.0.post0)\n",
            "Requirement already satisfied: tzdata>=2022.7 in /usr/local/lib/python3.11/dist-packages (from pandas>=2->meteostat) (2025.2)\n",
            "Requirement already satisfied: six>=1.5 in /usr/local/lib/python3.11/dist-packages (from python-dateutil>=2.8.2->pandas>=2->meteostat) (1.17.0)\n",
            "Downloading meteostat-1.7.4-py3-none-any.whl (33 kB)\n",
            "Installing collected packages: meteostat\n",
            "Successfully installed meteostat-1.7.4\n"
          ]
        }
      ],
      "source": [
        "pip install meteostat"
      ]
    },
    {
      "cell_type": "code",
      "source": [
        "from meteostat import Point, Daily, Hourly\n",
        "import pandas as pd\n",
        "import matplotlib.pyplot as plt"
      ],
      "metadata": {
        "id": "XeV4IbOogQmV"
      },
      "execution_count": null,
      "outputs": []
    },
    {
      "cell_type": "code",
      "source": [
        "# Coordinates of Delhi\n",
        "delhi = Point(28.6139, 77.2090)\n",
        "# Hourly data from Jan to April 2024\n",
        "start_date = pd.to_datetime('2020-01-01')\n",
        "end_date = pd.to_datetime('2024-04-30')\n",
        "data = Hourly(delhi, start=start_date, end=end_date)\n",
        "df = data.fetch()"
      ],
      "metadata": {
        "id": "uxtnpL-4hpGd"
      },
      "execution_count": null,
      "outputs": []
    },
    {
      "cell_type": "code",
      "source": [
        "print(df.head())"
      ],
      "metadata": {
        "colab": {
          "base_uri": "https://localhost:8080/"
        },
        "id": "R8HT_CCahZZe",
        "outputId": "3000c14c-b41d-42e6-acd8-8087aca909e3"
      },
      "execution_count": null,
      "outputs": [
        {
          "output_type": "stream",
          "name": "stdout",
          "text": [
            "                     temp  dwpt   rhum  prcp  snow  wdir  wspd  wpgt    pres  \\\n",
            "time                                                                           \n",
            "2020-01-01 00:00:00   3.2   3.2  100.0  <NA>  <NA>   0.0   0.0  <NA>  1021.1   \n",
            "2020-01-01 01:00:00   4.3   4.3  100.0  <NA>  <NA>   0.0   0.0  <NA>  1021.7   \n",
            "2020-01-01 02:00:00   4.7   4.7  100.0  <NA>  <NA>   0.0   0.0  <NA>  1022.3   \n",
            "2020-01-01 03:00:00   4.0   3.4   96.0  <NA>  <NA>  70.0   3.6  <NA>  1023.2   \n",
            "2020-01-01 04:00:00   7.6   5.6   87.0  <NA>  <NA>  96.0   1.8  <NA>  1023.3   \n",
            "\n",
            "                     tsun  coco  \n",
            "time                             \n",
            "2020-01-01 00:00:00  <NA>   5.0  \n",
            "2020-01-01 01:00:00  <NA>   5.0  \n",
            "2020-01-01 02:00:00  <NA>   5.0  \n",
            "2020-01-01 03:00:00  <NA>   5.0  \n",
            "2020-01-01 04:00:00  <NA>   5.0  \n"
          ]
        }
      ]
    },
    {
      "cell_type": "code",
      "source": [
        "#Let’s sort and structure the time column:\n",
        "df = df.reset_index()\n",
        "df['time'] = pd.to_datetime(df['time'])\n",
        "df.set_index('time', inplace=True)\n",
        "df = df.sort_index()"
      ],
      "metadata": {
        "id": "LwgH88TyiBBu"
      },
      "execution_count": null,
      "outputs": []
    },
    {
      "cell_type": "code",
      "source": [
        "#Let’s resample to hourly data using mean() (safe for numeric weather):\n",
        "df_hourly = df.resample('1h').mean()"
      ],
      "metadata": {
        "id": "kJSt9mjSiTl-"
      },
      "execution_count": null,
      "outputs": []
    },
    {
      "cell_type": "code",
      "source": [
        "#Check for Nan values\n",
        "df_hourly.isna().sum()"
      ],
      "metadata": {
        "colab": {
          "base_uri": "https://localhost:8080/",
          "height": 429
        },
        "id": "Omz15Z_Bidw9",
        "outputId": "f444cb2d-c3ad-4556-a33a-781e87c34a92"
      },
      "execution_count": null,
      "outputs": [
        {
          "output_type": "execute_result",
          "data": {
            "text/plain": [
              "temp        0\n",
              "dwpt        0\n",
              "rhum        0\n",
              "prcp    21060\n",
              "snow    37945\n",
              "wdir       36\n",
              "wspd        0\n",
              "wpgt    37945\n",
              "pres        0\n",
              "tsun    37945\n",
              "coco       42\n",
              "dtype: int64"
            ],
            "text/html": [
              "<div>\n",
              "<style scoped>\n",
              "    .dataframe tbody tr th:only-of-type {\n",
              "        vertical-align: middle;\n",
              "    }\n",
              "\n",
              "    .dataframe tbody tr th {\n",
              "        vertical-align: top;\n",
              "    }\n",
              "\n",
              "    .dataframe thead th {\n",
              "        text-align: right;\n",
              "    }\n",
              "</style>\n",
              "<table border=\"1\" class=\"dataframe\">\n",
              "  <thead>\n",
              "    <tr style=\"text-align: right;\">\n",
              "      <th></th>\n",
              "      <th>0</th>\n",
              "    </tr>\n",
              "  </thead>\n",
              "  <tbody>\n",
              "    <tr>\n",
              "      <th>temp</th>\n",
              "      <td>0</td>\n",
              "    </tr>\n",
              "    <tr>\n",
              "      <th>dwpt</th>\n",
              "      <td>0</td>\n",
              "    </tr>\n",
              "    <tr>\n",
              "      <th>rhum</th>\n",
              "      <td>0</td>\n",
              "    </tr>\n",
              "    <tr>\n",
              "      <th>prcp</th>\n",
              "      <td>21060</td>\n",
              "    </tr>\n",
              "    <tr>\n",
              "      <th>snow</th>\n",
              "      <td>37945</td>\n",
              "    </tr>\n",
              "    <tr>\n",
              "      <th>wdir</th>\n",
              "      <td>36</td>\n",
              "    </tr>\n",
              "    <tr>\n",
              "      <th>wspd</th>\n",
              "      <td>0</td>\n",
              "    </tr>\n",
              "    <tr>\n",
              "      <th>wpgt</th>\n",
              "      <td>37945</td>\n",
              "    </tr>\n",
              "    <tr>\n",
              "      <th>pres</th>\n",
              "      <td>0</td>\n",
              "    </tr>\n",
              "    <tr>\n",
              "      <th>tsun</th>\n",
              "      <td>37945</td>\n",
              "    </tr>\n",
              "    <tr>\n",
              "      <th>coco</th>\n",
              "      <td>42</td>\n",
              "    </tr>\n",
              "  </tbody>\n",
              "</table>\n",
              "</div><br><label><b>dtype:</b> int64</label>"
            ]
          },
          "metadata": {},
          "execution_count": 7
        }
      ]
    },
    {
      "cell_type": "code",
      "source": [
        "#Filling missing data\n",
        "df_filled = df_hourly.ffill()"
      ],
      "metadata": {
        "id": "Q2EZDkD0ipNe"
      },
      "execution_count": null,
      "outputs": []
    },
    {
      "cell_type": "code",
      "source": [
        "#Visualize the Cleaned Data\n",
        "df_filled['temp'].plot(figsize=(14, 5), title=\"Hourly Temperature in Delhi\")\n",
        "plt.ylabel('Temperature (°C)')\n",
        "plt.xlabel('Time')\n",
        "plt.show()"
      ],
      "metadata": {
        "colab": {
          "base_uri": "https://localhost:8080/",
          "height": 487
        },
        "id": "HOxRzFMNiyB1",
        "outputId": "b56465ea-5b05-403b-dd62-8b36b8aaf5ac"
      },
      "execution_count": null,
      "outputs": [
        {
          "output_type": "display_data",
          "data": {
            "text/plain": [
              "<Figure size 1400x500 with 1 Axes>"
            ],
            "image/png": "[encoded data removed]"
          },
          "metadata": {}
        }
      ]
    },
    {
      "cell_type": "code",
      "source": [
        "#Sace cleaned data\n",
        "df_filled.to_csv(\"delhi_hourly_weather_clean.csv\")"
      ],
      "metadata": {
        "id": "zKSt0sJ4jBMl"
      },
      "execution_count": null,
      "outputs": []
    },
    {
      "cell_type": "code",
      "source": [
        "df_cleaned = pd.read_csv(\"delhi_hourly_weather_clean.csv\", index_col='time', parse_dates=True)\n",
        "print(df_cleaned.head())"
      ],
      "metadata": {
        "colab": {
          "base_uri": "https://localhost:8080/"
        },
        "id": "4iGz-XgpobtL",
        "outputId": "36b12ea1-68a7-4f4e-9507-7e1a3a54134d"
      },
      "execution_count": null,
      "outputs": [
        {
          "output_type": "stream",
          "name": "stdout",
          "text": [
            "                     temp  dwpt   rhum  prcp  snow  wdir  wspd  wpgt    pres  \\\n",
            "time                                                                           \n",
            "2020-01-01 00:00:00   3.2   3.2  100.0   NaN   NaN   0.0   0.0   NaN  1021.1   \n",
            "2020-01-01 01:00:00   4.3   4.3  100.0   NaN   NaN   0.0   0.0   NaN  1021.7   \n",
            "2020-01-01 02:00:00   4.7   4.7  100.0   NaN   NaN   0.0   0.0   NaN  1022.3   \n",
            "2020-01-01 03:00:00   4.0   3.4   96.0   NaN   NaN  70.0   3.6   NaN  1023.2   \n",
            "2020-01-01 04:00:00   7.6   5.6   87.0   NaN   NaN  96.0   1.8   NaN  1023.3   \n",
            "\n",
            "                     tsun  coco  \n",
            "time                             \n",
            "2020-01-01 00:00:00   NaN   5.0  \n",
            "2020-01-01 01:00:00   NaN   5.0  \n",
            "2020-01-01 02:00:00   NaN   5.0  \n",
            "2020-01-01 03:00:00   NaN   5.0  \n",
            "2020-01-01 04:00:00   NaN   5.0  \n"
          ]
        }
      ]
    },
    {
      "cell_type": "code",
      "source": [
        "from sklearn.preprocessing import MinMaxScaler\n",
        "from sklearn.linear_model import LinearRegression\n",
        "import joblib\n",
        "import numpy as np\n",
        "\n",
        "# Data Preparation for regression\n",
        "# We'll use 'dwpt' (dew point) and 'rhum' (relative humidity) to predict 'temp' (temperature)\n",
        "\n",
        "X = df_cleaned[['dwpt', 'rhum']].values\n",
        "y = df_cleaned['temp'].values\n",
        "\n",
        "# Scale the features (X)\n",
        "scaler_X = MinMaxScaler()\n",
        "X_scaled = scaler_X.fit_transform(X)\n",
        "\n",
        "# Scale the target variable (y)\n",
        "scaler_y = MinMaxScaler()\n",
        "# Reshape y to be a 2D array as required by MinMaxScaler\n",
        "y_scaled = scaler_y.fit_transform(y.reshape(-1, 1))\n",
        "\n",
        "# Save the scalers\n",
        "joblib.dump(scaler_X, 'linear_regression_scaler_X.pkl')\n",
        "joblib.dump(scaler_y, 'linear_regression_scaler_y.pkl')\n",
        "\n",
        "print(\"End\")"
      ],
      "metadata": {
        "colab": {
          "base_uri": "https://localhost:8080/"
        },
        "id": "tVdrUVtEo1pv",
        "outputId": "1ac48997-4cb2-4fe6-9c11-b1edcba5d3fc"
      },
      "execution_count": null,
      "outputs": [
        {
          "output_type": "stream",
          "name": "stdout",
          "text": [
            "End\n"
          ]
        }
      ]
    },
    {
      "cell_type": "code",
      "metadata": {
        "colab": {
          "base_uri": "https://localhost:8080/"
        },
        "id": "9384c797",
        "outputId": "66702fca-a7f8-4309-ad76-e0adc741488d"
      },
      "source": [
        "# Train a Linear Regression model\n",
        "from sklearn.model_selection import train_test_split\n",
        "from sklearn.metrics import mean_squared_error, r2_score\n",
        "import numpy as np\n",
        "\n",
        "# Split data into training and validation sets\n",
        "X_train, X_val, y_train, y_val = train_test_split(X_scaled, y_scaled, test_size=0.2, random_state=42)\n",
        "\n",
        "# Train the model on the training data\n",
        "model_train = LinearRegression()\n",
        "model_train.fit(X_train, y_train)\n",
        "\n",
        "# Make predictions on training and validation sets\n",
        "y_train_pred_scaled = model_train.predict(X_train)\n",
        "y_val_pred_scaled = model_train.predict(X_val)\n",
        "\n",
        "# Inverse transform the predictions and actual values to original scale\n",
        "y_train_pred = scaler_y.inverse_transform(y_train_pred_scaled)\n",
        "y_val_pred = scaler_y.inverse_transform(y_val_pred_scaled)\n",
        "y_train_orig = scaler_y.inverse_transform(y_train)\n",
        "y_val_orig = scaler_y.inverse_transform(y_val)\n",
        "\n",
        "# Calculate metrics for training set\n",
        "train_mse = mean_squared_error(y_train_orig, y_train_pred)\n",
        "train_rmse = np.sqrt(train_mse)\n",
        "train_r2 = r2_score(y_train_orig, y_train_pred)\n",
        "train_mape = np.mean(np.abs((y_train_orig - y_train_pred) / y_train_orig)) * 100\n",
        "\n",
        "# Calculate metrics for validation set\n",
        "val_mse = mean_squared_error(y_val_orig, y_val_pred)\n",
        "val_rmse = np.sqrt(val_mse)\n",
        "val_r2 = r2_score(y_val_orig, y_val_pred)\n",
        "val_mape = np.mean(np.abs((y_val_orig - y_val_pred) / y_val_orig)) * 100\n",
        "\n",
        "\n",
        "# Print the metrics\n",
        "print(\"Training Metrics:\")\n",
        "print(f\"  Mean Squared Error (MSE): {train_mse:.4f}\")\n",
        "print(f\"  Root Mean Squared Error (RMSE): {train_rmse:.4f}\")\n",
        "print(f\"  R-squared (R2): {train_r2:.4f}\")\n",
        "print(f\"  Mean Absolute Percentage Error (MAPE): {train_mape:.4f}%\")\n",
        "\n",
        "print(\"\\nValidation Metrics:\")\n",
        "print(f\"  Mean Squared Error (MSE): {val_mse:.4f}\")\n",
        "print(f\"  Root Mean Squared Error (RMSE): {val_rmse:.4f}\")\n",
        "print(f\"  R-squared (R2): {val_r2:.4f}\")\n",
        "print(f\"  Mean Absolute Percentage Error (MAPE): {val_mape:.4f}%\")"
      ],
      "execution_count": null,
      "outputs": [
        {
          "output_type": "stream",
          "name": "stdout",
          "text": [
            "Training Metrics:\n",
            "  Mean Squared Error (MSE): 1.9357\n",
            "  Root Mean Squared Error (RMSE): 1.3913\n",
            "  R-squared (R2): 0.9720\n",
            "  Mean Absolute Percentage Error (MAPE): 4.5514%\n",
            "\n",
            "Validation Metrics:\n",
            "  Mean Squared Error (MSE): 1.8320\n",
            "  Root Mean Squared Error (RMSE): 1.3535\n",
            "  R-squared (R2): 0.9735\n",
            "  Mean Absolute Percentage Error (MAPE): 4.4775%\n"
          ]
        }
      ]
    },
    {
      "cell_type": "code",
      "metadata": {
        "colab": {
          "base_uri": "https://localhost:8080/"
        },
        "id": "4e9bc3c6",
        "outputId": "f1b922e3-a27e-474e-f436-12f4698d6e10"
      },
      "source": [
        "from sklearn.preprocessing import MinMaxScaler\n",
        "import numpy as np\n",
        "import joblib\n",
        "\n",
        "# Data Preparation for LSTM\n",
        "# We'll use 'dwpt' (dew point) and 'rhum' (relative humidity) to predict 'temp' (temperature)\n",
        "\n",
        "X = df_cleaned[['dwpt', 'rhum']].values\n",
        "y = df_cleaned['temp'].values\n",
        "\n",
        "# Scale the features (X)\n",
        "scaler_X_lstm = MinMaxScaler()\n",
        "X_scaled_lstm = scaler_X_lstm.fit_transform(X)\n",
        "\n",
        "# Scale the target variable (y)\n",
        "scaler_y_lstm = MinMaxScaler()\n",
        "# Reshape y to be a 2D array as required by MinMaxScaler\n",
        "y_scaled_lstm = scaler_y_lstm.fit_transform(y.reshape(-1, 1))\n",
        "\n",
        "# Save the scalers\n",
        "joblib.dump(scaler_X_lstm, 'lstm_scaler_X.pkl')\n",
        "joblib.dump(scaler_y_lstm, 'lstm_scaler_y.pkl')\n",
        "\n",
        "\n",
        "# Function to create sequences for LSTM\n",
        "def create_sequences(X, y, time_steps=1):\n",
        "    Xs, ys = [], []\n",
        "    for i in range(len(X) - time_steps):\n",
        "        v = X[i:(i + time_steps)]\n",
        "        Xs.append(v)\n",
        "        ys.append(y[i + time_steps])\n",
        "    return np.array(Xs), np.array(ys)\n",
        "\n",
        "# Define the number of time steps\n",
        "TIME_STEPS = 24 # Using 24 hours of data to predict the next hour\n",
        "\n",
        "X_sequences, y_sequences = create_sequences(X_scaled_lstm, y_scaled_lstm, TIME_STEPS)\n",
        "\n",
        "print(f\"Shape of X_sequences: {X_sequences.shape}\")\n",
        "print(f\"Shape of y_sequences: {y_sequences.shape}\")"
      ],
      "execution_count": null,
      "outputs": [
        {
          "output_type": "stream",
          "name": "stdout",
          "text": [
            "Shape of X_sequences: (37921, 24, 2)\n",
            "Shape of y_sequences: (37921, 1)\n"
          ]
        }
      ]
    },
    {
      "cell_type": "code",
      "metadata": {
        "colab": {
          "base_uri": "https://localhost:8080/",
          "height": 306
        },
        "id": "76602e3a",
        "outputId": "b65be968-d547-4544-f7a6-e631c2ed1e75"
      },
      "source": [
        "from tensorflow.keras.models import Sequential\n",
        "from tensorflow.keras.layers import LSTM, Dense, Dropout\n",
        "from tensorflow.keras.metrics import MeanAbsolutePercentageError\n",
        "\n",
        "# Build the LSTM model\n",
        "model_lstm = Sequential()\n",
        "model_lstm.add(LSTM(units=50, return_sequences=True, input_shape=(X_sequences.shape[1], X_sequences.shape[2])))\n",
        "model_lstm.add(Dropout(0.2))\n",
        "model_lstm.add(LSTM(units=50, return_sequences=False))\n",
        "model_lstm.add(Dropout(0.2))\n",
        "model_lstm.add(Dense(units=1))\n",
        "\n",
        "# Compile the model\n",
        "model_lstm.compile(optimizer='adam', loss='mean_squared_error', metrics=[MeanAbsolutePercentageError()])\n",
        "model_lstm.summary()"
      ],
      "execution_count": null,
      "outputs": [
        {
          "output_type": "stream",
          "name": "stderr",
          "text": [
            "UserWarning: Do not pass an `input_shape`/`input_dim` argument to a layer. When using Sequential models, prefer using an `Input(shape)` object as the first layer in the model instead.\n"
          ]
        },
        {
          "output_type": "display_data",
          "data": {
            "text/plain": [
              "\u001b[1mModel: \"sequential_2\"\u001b[0m\n"
            ],
            "text/html": [
              "<pre style=\"white-space:pre;overflow-x:auto;line-height:normal;font-family:Menlo,'DejaVu Sans Mono',consolas,'Courier New',monospace\"><span style=\"font-weight: bold\">Model: \"sequential_2\"</span>\n",
              "</pre>\n"
            ]
          },
          "metadata": {}
        },
        {
          "output_type": "display_data",
          "data": {
            "text/plain": [
              "┏━━━━━━━━━━━━━━━━━━━━━━━━━━━━━━━━━┳━━━━━━━━━━━━━━━━━━━━━━━━┳━━━━━━━━━━━━━━━┓\n",
              "┃\u001b[1m \u001b[0m\u001b[1mLayer (type)                   \u001b[0m\u001b[1m \u001b[0m┃\u001b[1m \u001b[0m\u001b[1mOutput Shape          \u001b[0m\u001b[1m \u001b[0m┃\u001b[1m \u001b[0m\u001b[1m      Param #\u001b[0m\u001b[1m \u001b[0m┃\n",
              "┡━━━━━━━━━━━━━━━━━━━━━━━━━━━━━━━━━╇━━━━━━━━━━━━━━━━━━━━━━━━╇━━━━━━━━━━━━━━━┩\n",
              "│ lstm_4 (\u001b[38;5;33mLSTM\u001b[0m)                   │ (\u001b[38;5;45mNone\u001b[0m, \u001b[38;5;34m24\u001b[0m, \u001b[38;5;34m50\u001b[0m)         │        \u001b[38;5;34m10,600\u001b[0m │\n",
              "├─────────────────────────────────┼────────────────────────┼───────────────┤\n",
              "│ dropout_4 (\u001b[38;5;33mDropout\u001b[0m)             │ (\u001b[38;5;45mNone\u001b[0m, \u001b[38;5;34m24\u001b[0m, \u001b[38;5;34m50\u001b[0m)         │             \u001b[38;5;34m0\u001b[0m │\n",
              "├─────────────────────────────────┼────────────────────────┼───────────────┤\n",
              "│ lstm_5 (\u001b[38;5;33mLSTM\u001b[0m)                   │ (\u001b[38;5;45mNone\u001b[0m, \u001b[38;5;34m50\u001b[0m)             │        \u001b[38;5;34m20,200\u001b[0m │\n",
              "├─────────────────────────────────┼────────────────────────┼───────────────┤\n",
              "│ dropout_5 (\u001b[38;5;33mDropout\u001b[0m)             │ (\u001b[38;5;45mNone\u001b[0m, \u001b[38;5;34m50\u001b[0m)             │             \u001b[38;5;34m0\u001b[0m │\n",
              "├─────────────────────────────────┼────────────────────────┼───────────────┤\n",
              "│ dense_2 (\u001b[38;5;33mDense\u001b[0m)                 │ (\u001b[38;5;45mNone\u001b[0m, \u001b[38;5;34m1\u001b[0m)              │            \u001b[38;5;34m51\u001b[0m │\n",
              "└─────────────────────────────────┴────────────────────────┴───────────────┘\n"
            ],
            "text/html": [
              "<pre style=\"white-space:pre;overflow-x:auto;line-height:normal;font-family:Menlo,'DejaVu Sans Mono',consolas,'Courier New',monospace\">┏━━━━━━━━━━━━━━━━━━━━━━━━━━━━━━━━━┳━━━━━━━━━━━━━━━━━━━━━━━━┳━━━━━━━━━━━━━━━┓\n",
              "┃<span style=\"font-weight: bold\"> Layer (type)                    </span>┃<span style=\"font-weight: bold\"> Output Shape           </span>┃<span style=\"font-weight: bold\">       Param # </span>┃\n",
              "┡━━━━━━━━━━━━━━━━━━━━━━━━━━━━━━━━━╇━━━━━━━━━━━━━━━━━━━━━━━━╇━━━━━━━━━━━━━━━┩\n",
              "│ lstm_4 (<span style=\"color: #0087ff; text-decoration-color: #0087ff\">LSTM</span>)                   │ (<span style=\"color: #00d7ff; text-decoration-color: #00d7ff\">None</span>, <span style=\"color: #00af00; text-decoration-color: #00af00\">24</span>, <span style=\"color: #00af00; text-decoration-color: #00af00\">50</span>)         │        <span style=\"color: #00af00; text-decoration-color: #00af00\">10,600</span> │\n",
              "├─────────────────────────────────┼────────────────────────┼───────────────┤\n",
              "│ dropout_4 (<span style=\"color: #0087ff; text-decoration-color: #0087ff\">Dropout</span>)             │ (<span style=\"color: #00d7ff; text-decoration-color: #00d7ff\">None</span>, <span style=\"color: #00af00; text-decoration-color: #00af00\">24</span>, <span style=\"color: #00af00; text-decoration-color: #00af00\">50</span>)         │             <span style=\"color: #00af00; text-decoration-color: #00af00\">0</span> │\n",
              "├─────────────────────────────────┼────────────────────────┼───────────────┤\n",
              "│ lstm_5 (<span style=\"color: #0087ff; text-decoration-color: #0087ff\">LSTM</span>)                   │ (<span style=\"color: #00d7ff; text-decoration-color: #00d7ff\">None</span>, <span style=\"color: #00af00; text-decoration-color: #00af00\">50</span>)             │        <span style=\"color: #00af00; text-decoration-color: #00af00\">20,200</span> │\n",
              "├─────────────────────────────────┼────────────────────────┼───────────────┤\n",
              "│ dropout_5 (<span style=\"color: #0087ff; text-decoration-color: #0087ff\">Dropout</span>)             │ (<span style=\"color: #00d7ff; text-decoration-color: #00d7ff\">None</span>, <span style=\"color: #00af00; text-decoration-color: #00af00\">50</span>)             │             <span style=\"color: #00af00; text-decoration-color: #00af00\">0</span> │\n",
              "├─────────────────────────────────┼────────────────────────┼───────────────┤\n",
              "│ dense_2 (<span style=\"color: #0087ff; text-decoration-color: #0087ff\">Dense</span>)                 │ (<span style=\"color: #00d7ff; text-decoration-color: #00d7ff\">None</span>, <span style=\"color: #00af00; text-decoration-color: #00af00\">1</span>)              │            <span style=\"color: #00af00; text-decoration-color: #00af00\">51</span> │\n",
              "└─────────────────────────────────┴────────────────────────┴───────────────┘\n",
              "</pre>\n"
            ]
          },
          "metadata": {}
        },
        {
          "output_type": "display_data",
          "data": {
            "text/plain": [
              "\u001b[1m Total params: \u001b[0m\u001b[38;5;34m30,851\u001b[0m (120.51 KB)\n"
            ],
            "text/html": [
              "<pre style=\"white-space:pre;overflow-x:auto;line-height:normal;font-family:Menlo,'DejaVu Sans Mono',consolas,'Courier New',monospace\"><span style=\"font-weight: bold\"> Total params: </span><span style=\"color: #00af00; text-decoration-color: #00af00\">30,851</span> (120.51 KB)\n",
              "</pre>\n"
            ]
          },
          "metadata": {}
        },
        {
          "output_type": "display_data",
          "data": {
            "text/plain": [
              "\u001b[1m Trainable params: \u001b[0m\u001b[38;5;34m30,851\u001b[0m (120.51 KB)\n"
            ],
            "text/html": [
              "<pre style=\"white-space:pre;overflow-x:auto;line-height:normal;font-family:Menlo,'DejaVu Sans Mono',consolas,'Courier New',monospace\"><span style=\"font-weight: bold\"> Trainable params: </span><span style=\"color: #00af00; text-decoration-color: #00af00\">30,851</span> (120.51 KB)\n",
              "</pre>\n"
            ]
          },
          "metadata": {}
        },
        {
          "output_type": "display_data",
          "data": {
            "text/plain": [
              "\u001b[1m Non-trainable params: \u001b[0m\u001b[38;5;34m0\u001b[0m (0.00 B)\n"
            ],
            "text/html": [
              "<pre style=\"white-space:pre;overflow-x:auto;line-height:normal;font-family:Menlo,'DejaVu Sans Mono',consolas,'Courier New',monospace\"><span style=\"font-weight: bold\"> Non-trainable params: </span><span style=\"color: #00af00; text-decoration-color: #00af00\">0</span> (0.00 B)\n",
              "</pre>\n"
            ]
          },
          "metadata": {}
        }
      ]
    },
    {
      "cell_type": "code",
      "metadata": {
        "colab": {
          "base_uri": "https://localhost:8080/",
          "height": 1000
        },
        "id": "d9b0d001",
        "outputId": "99bfa474-ae74-4c03-c8e8-e0075052408f"
      },
      "source": [
        "from sklearn.model_selection import train_test_split\n",
        "import matplotlib.pyplot as plt\n",
        "import joblib\n",
        "\n",
        "# Split data into training and validation sets for LSTM\n",
        "X_train_lstm, X_val_lstm, y_train_lstm, y_val_lstm = train_test_split(X_sequences, y_sequences, test_size=0.2, random_state=42)\n",
        "\n",
        "# Train the LSTM model\n",
        "history = model_lstm.fit(X_train_lstm, y_train_lstm, epochs=20, batch_size=20, validation_split=0.2)\n",
        "\n",
        "# Visualize training and validation loss\n",
        "plt.figure(figsize=(12, 6))\n",
        "plt.plot(history.history['loss'], label='Training Loss')\n",
        "plt.plot(history.history['val_loss'], label='Validation Loss')\n",
        "plt.title('LSTM Model Loss')\n",
        "plt.xlabel('Epoch')\n",
        "plt.ylabel('Loss')\n",
        "plt.legend()\n",
        "plt.show()\n",
        "\n",
        "# Print final loss metrics\n",
        "print(\"\\nFinal Training Loss:\", history.history['loss'][-1])\n",
        "print(\"Final Validation Loss:\", history.history['val_loss'][-1])\n",
        "\n",
        "# Save the LSTM model\n",
        "model_lstm.save('lstm_model.h5')\n",
        "print(\"\\nLSTM model saved as 'lstm_model.h5'\")"
      ],
      "execution_count": null,
      "outputs": [
        {
          "output_type": "stream",
          "name": "stdout",
          "text": [
            "Epoch 1/20\n",
            "\u001b[1m1214/1214\u001b[0m \u001b[32m━━━━━━━━━━━━━━━━━━━━\u001b[0m\u001b[37m\u001b[0m \u001b[1m34s\u001b[0m 25ms/step - loss: 0.0190 - mean_absolute_percentage_error: 1094.6141 - val_loss: 0.0020 - val_mean_absolute_percentage_error: 8.8987\n",
            "Epoch 2/20\n",
            "\u001b[1m1214/1214\u001b[0m \u001b[32m━━━━━━━━━━━━━━━━━━━━\u001b[0m\u001b[37m\u001b[0m \u001b[1m39s\u001b[0m 24ms/step - loss: 0.0028 - mean_absolute_percentage_error: 190.0643 - val_loss: 0.0011 - val_mean_absolute_percentage_error: 6.4314\n",
            "Epoch 3/20\n",
            "\u001b[1m1214/1214\u001b[0m \u001b[32m━━━━━━━━━━━━━━━━━━━━\u001b[0m\u001b[37m\u001b[0m \u001b[1m42s\u001b[0m 24ms/step - loss: 0.0021 - mean_absolute_percentage_error: 3158.8638 - val_loss: 9.6342e-04 - val_mean_absolute_percentage_error: 5.6415\n",
            "Epoch 4/20\n",
            "\u001b[1m1214/1214\u001b[0m \u001b[32m━━━━━━━━━━━━━━━━━━━━\u001b[0m\u001b[37m\u001b[0m \u001b[1m41s\u001b[0m 24ms/step - loss: 0.0016 - mean_absolute_percentage_error: 2432.5029 - val_loss: 8.7638e-04 - val_mean_absolute_percentage_error: 5.7259\n",
            "Epoch 5/20\n",
            "\u001b[1m1214/1214\u001b[0m \u001b[32m━━━━━━━━━━━━━━━━━━━━\u001b[0m\u001b[37m\u001b[0m \u001b[1m41s\u001b[0m 24ms/step - loss: 0.0013 - mean_absolute_percentage_error: 3158.7053 - val_loss: 8.3158e-04 - val_mean_absolute_percentage_error: 5.0232\n",
            "Epoch 6/20\n",
            "\u001b[1m1214/1214\u001b[0m \u001b[32m━━━━━━━━━━━━━━━━━━━━\u001b[0m\u001b[37m\u001b[0m \u001b[1m40s\u001b[0m 24ms/step - loss: 0.0012 - mean_absolute_percentage_error: 2727.2266 - val_loss: 6.8701e-04 - val_mean_absolute_percentage_error: 4.7952\n",
            "Epoch 7/20\n",
            "\u001b[1m1214/1214\u001b[0m \u001b[32m━━━━━━━━━━━━━━━━━━━━\u001b[0m\u001b[37m\u001b[0m \u001b[1m29s\u001b[0m 24ms/step - loss: 0.0011 - mean_absolute_percentage_error: 268.5562 - val_loss: 7.4931e-04 - val_mean_absolute_percentage_error: 4.9007\n",
            "Epoch 8/20\n",
            "\u001b[1m1214/1214\u001b[0m \u001b[32m━━━━━━━━━━━━━━━━━━━━\u001b[0m\u001b[37m\u001b[0m \u001b[1m44s\u001b[0m 26ms/step - loss: 0.0011 - mean_absolute_percentage_error: 573.2765 - val_loss: 7.5985e-04 - val_mean_absolute_percentage_error: 4.8888\n",
            "Epoch 9/20\n",
            "\u001b[1m1214/1214\u001b[0m \u001b[32m━━━━━━━━━━━━━━━━━━━━\u001b[0m\u001b[37m\u001b[0m \u001b[1m29s\u001b[0m 24ms/step - loss: 0.0010 - mean_absolute_percentage_error: 28.5479 - val_loss: 7.5071e-04 - val_mean_absolute_percentage_error: 5.2341\n",
            "Epoch 10/20\n",
            "\u001b[1m1214/1214\u001b[0m \u001b[32m━━━━━━━━━━━━━━━━━━━━\u001b[0m\u001b[37m\u001b[0m \u001b[1m29s\u001b[0m 24ms/step - loss: 0.0010 - mean_absolute_percentage_error: 135.1323 - val_loss: 6.8785e-04 - val_mean_absolute_percentage_error: 4.5435\n",
            "Epoch 11/20\n",
            "\u001b[1m1214/1214\u001b[0m \u001b[32m━━━━━━━━━━━━━━━━━━━━\u001b[0m\u001b[37m\u001b[0m \u001b[1m41s\u001b[0m 24ms/step - loss: 9.5822e-04 - mean_absolute_percentage_error: 4657.8154 - val_loss: 6.4269e-04 - val_mean_absolute_percentage_error: 4.3984\n",
            "Epoch 12/20\n",
            "\u001b[1m1214/1214\u001b[0m \u001b[32m━━━━━━━━━━━━━━━━━━━━\u001b[0m\u001b[37m\u001b[0m \u001b[1m28s\u001b[0m 23ms/step - loss: 9.8903e-04 - mean_absolute_percentage_error: 12091.8613 - val_loss: 6.6989e-04 - val_mean_absolute_percentage_error: 4.6344\n",
            "Epoch 13/20\n",
            "\u001b[1m1214/1214\u001b[0m \u001b[32m━━━━━━━━━━━━━━━━━━━━\u001b[0m\u001b[37m\u001b[0m \u001b[1m42s\u001b[0m 24ms/step - loss: 9.4070e-04 - mean_absolute_percentage_error: 2254.1965 - val_loss: 7.9037e-04 - val_mean_absolute_percentage_error: 4.9857\n",
            "Epoch 14/20\n",
            "\u001b[1m1214/1214\u001b[0m \u001b[32m━━━━━━━━━━━━━━━━━━━━\u001b[0m\u001b[37m\u001b[0m \u001b[1m40s\u001b[0m 23ms/step - loss: 9.2296e-04 - mean_absolute_percentage_error: 225.3391 - val_loss: 6.6563e-04 - val_mean_absolute_percentage_error: 4.9078\n",
            "Epoch 15/20\n",
            "\u001b[1m1214/1214\u001b[0m \u001b[32m━━━━━━━━━━━━━━━━━━━━\u001b[0m\u001b[37m\u001b[0m \u001b[1m41s\u001b[0m 23ms/step - loss: 9.4347e-04 - mean_absolute_percentage_error: 1335.1517 - val_loss: 9.3330e-04 - val_mean_absolute_percentage_error: 5.4841\n",
            "Epoch 16/20\n",
            "\u001b[1m1214/1214\u001b[0m \u001b[32m━━━━━━━━━━━━━━━━━━━━\u001b[0m\u001b[37m\u001b[0m \u001b[1m42s\u001b[0m 24ms/step - loss: 9.1085e-04 - mean_absolute_percentage_error: 80.0761 - val_loss: 7.7119e-04 - val_mean_absolute_percentage_error: 6.1811\n",
            "Epoch 17/20\n",
            "\u001b[1m1214/1214\u001b[0m \u001b[32m━━━━━━━━━━━━━━━━━━━━\u001b[0m\u001b[37m\u001b[0m \u001b[1m39s\u001b[0m 23ms/step - loss: 9.2832e-04 - mean_absolute_percentage_error: 4762.5063 - val_loss: 6.0884e-04 - val_mean_absolute_percentage_error: 4.4601\n",
            "Epoch 18/20\n",
            "\u001b[1m1214/1214\u001b[0m \u001b[32m━━━━━━━━━━━━━━━━━━━━\u001b[0m\u001b[37m\u001b[0m \u001b[1m28s\u001b[0m 23ms/step - loss: 8.8412e-04 - mean_absolute_percentage_error: 3151.6787 - val_loss: 5.6787e-04 - val_mean_absolute_percentage_error: 4.0695\n",
            "Epoch 19/20\n",
            "\u001b[1m1214/1214\u001b[0m \u001b[32m━━━━━━━━━━━━━━━━━━━━\u001b[0m\u001b[37m\u001b[0m \u001b[1m41s\u001b[0m 24ms/step - loss: 8.5638e-04 - mean_absolute_percentage_error: 4719.0864 - val_loss: 6.2058e-04 - val_mean_absolute_percentage_error: 4.1865\n",
            "Epoch 20/20\n",
            "\u001b[1m1214/1214\u001b[0m \u001b[32m━━━━━━━━━━━━━━━━━━━━\u001b[0m\u001b[37m\u001b[0m \u001b[1m41s\u001b[0m 24ms/step - loss: 8.9949e-04 - mean_absolute_percentage_error: 589.2917 - val_loss: 5.9976e-04 - val_mean_absolute_percentage_error: 4.3346\n"
          ]
        },
        {
          "output_type": "display_data",
          "data": {
            "text/plain": [
              "<Figure size 1200x600 with 1 Axes>"
            ],
            "image/png": "[encoded data removed]"
          },
          "metadata": {}
        },
        {
          "output_type": "stream",
          "name": "stderr",
          "text": [
            "WARNING:absl:You are saving your model as an HDF5 file via `model.save()` or `keras.saving.save_model(model)`. This file format is considered legacy. We recommend using instead the native Keras format, e.g. `model.save('my_model.keras')` or `keras.saving.save_model(model, 'my_model.keras')`. \n"
          ]
        },
        {
          "output_type": "stream",
          "name": "stdout",
          "text": [
            "\n",
            "Final Training Loss: 0.0008996134856715798\n",
            "Final Validation Loss: 0.0005997647531330585\n",
            "\n",
            "LSTM model saved as 'lstm_model.h5'\n"
          ]
        }
      ]
    }
  ]
}